{
 "cells": [
  {
   "cell_type": "code",
   "execution_count": null,
   "metadata": {},
   "outputs": [],
   "source": [
    "Maximum Frequency"
   ]
  },
  {
   "cell_type": "code",
   "execution_count": null,
   "metadata": {},
   "outputs": [],
   "source": [
    "from sys import stdin\n",
    "def maxfreq(arr):\n",
    "    d = dict()\n",
    "    for i in arr:\n",
    "        if i in d:\n",
    "            d[i] = d.get(i, 0) + 1\n",
    "        else:\n",
    "            d[i] = 1\n",
    "    max = -1\n",
    "    for x in arr:\n",
    "        if d[x] > max:\n",
    "            max = d[x]\n",
    "            num = x        \n",
    "    return num\n",
    "    \n",
    "def takeInput():\n",
    "    #To take fast I/O\n",
    "    n=int(stdin.readline().strip())\n",
    "    if n==0:\n",
    "        return list(),0\n",
    "    arr=list(map(int,stdin.readline().strip().split( )))\n",
    "    return arr,n\n",
    "\n",
    "arr,n=takeInput()\n",
    "print(maxfreq(arr))"
   ]
  },
  {
   "cell_type": "code",
   "execution_count": null,
   "metadata": {},
   "outputs": [],
   "source": [
    "Pair Sum To 0"
   ]
  },
  {
   "cell_type": "code",
   "execution_count": null,
   "metadata": {},
   "outputs": [],
   "source": [
    "from sys import stdin\n",
    "def pairSum0(l,n):\n",
    "    d={}\n",
    "    c=0\n",
    "    for i in l:\n",
    "        d[i]=d.get(i,0)+1\n",
    "\n",
    "\n",
    "    for i in d:\n",
    "        if len(d)==1 and i==0:\n",
    "            return (n*(n-1))//2         \n",
    "\n",
    "        \n",
    "        if i==0:\n",
    "            if d[i]!=1: \n",
    "                c+=(d[i]*(d[i]-1))//2     \n",
    "        \n",
    "        if i>0 and -i in d:\n",
    "            c+=(d[i]*d[-i])\n",
    "\n",
    "    return c\n",
    "    \n",
    "    \n",
    "def takeInput():\n",
    "    #To take fast I/O\n",
    "    n=int(stdin.readline().strip())\n",
    "    if n==0:\n",
    "        return list(),0\n",
    "    arr=list(map(int,stdin.readline().strip().split( )))\n",
    "    return arr,n\n",
    "\n",
    "arr,n=takeInput()\n",
    "print(pairSum0(arr,n))"
   ]
  },
  {
   "cell_type": "code",
   "execution_count": null,
   "metadata": {},
   "outputs": [],
   "source": [
    "Extract Unique characters"
   ]
  },
  {
   "cell_type": "code",
   "execution_count": null,
   "metadata": {},
   "outputs": [],
   "source": [
    "def uniqueChar(s): \n",
    "    new_string = \"\"\n",
    "    for i in range(len(s)):\n",
    "        if s[i] not in new_string:\n",
    "            new_string += s[i]\n",
    "    return new_string  \n",
    "    \n",
    "\n",
    "\n",
    "\n",
    "# Main \n",
    "s=input() \n",
    "print(uniqueChar(s))"
   ]
  },
  {
   "cell_type": "code",
   "execution_count": null,
   "metadata": {},
   "outputs": [],
   "source": [
    "Longest Consecutive Sequence"
   ]
  },
  {
   "cell_type": "code",
   "execution_count": null,
   "metadata": {},
   "outputs": [],
   "source": [
    "from sys import stdin\n",
    "\n",
    "def longestConsecutiveSubsequence(l,n):\n",
    "    d={}\n",
    "    for i in l:\n",
    "        d[i]=True\n",
    "    maxlen=0\n",
    "    seq=[]\n",
    "    for i in l:\n",
    "        max=0\n",
    "        if d[i]==True:\n",
    "            d[i]=False\n",
    "            max+=1\n",
    "            x=i+1\n",
    "            y=i-1\n",
    "            while x in d:\n",
    "                d[x]=False\n",
    "                max+=1\n",
    "                x+=1\n",
    "            while y in d:\n",
    "                d[y]=False\n",
    "                max+=1\n",
    "                y-=1\n",
    "        y+=1\n",
    "        if max==maxlen and l.index(seq[0])>l.index(y):\n",
    "            seq.clear()\n",
    "            for j in range(y,x):\n",
    "                    seq.append(j)\n",
    "        if max>maxlen:\n",
    "            maxlen=max\n",
    "            seq.clear()\n",
    "            for j in range(y,x):\n",
    "                seq.append(j)\n",
    "    return [seq[0],seq[-1]]\n",
    "\n",
    "\n",
    "\n",
    "\n",
    "def takeInput():\n",
    "    #To take fast I/O\n",
    "    n=int(stdin.readline().strip())\n",
    "    if n==0:\n",
    "        return list(),0\n",
    "    arr=list(map(int,stdin.readline().strip().split( )))\n",
    "    return arr,n\n",
    "\n",
    "    \n",
    "# Main \n",
    "arr,n=takeInput()\n",
    "ans = longestConsecutiveSubsequence(arr,n) \n",
    "# This ans array contains two numbers, ie, start and end of longest sequence respectively\n",
    "print(*ans)"
   ]
  },
  {
   "cell_type": "code",
   "execution_count": null,
   "metadata": {},
   "outputs": [],
   "source": [
    "Pairs with difference K"
   ]
  },
  {
   "cell_type": "code",
   "execution_count": null,
   "metadata": {},
   "outputs": [],
   "source": [
    "\n",
    "def printPairDiffK(l, k):\n",
    "    pairCount = 0\n",
    "    m = {}\n",
    "    for num in l:\n",
    "        if num+k in m:\n",
    "            pairCount += m[num+k]\n",
    "        if k!=0 and num-k in m:\n",
    "            pairCount += m[num-k]\n",
    "\n",
    "        # Update map        \n",
    "        if num in m:\n",
    "            m[num] += 1\n",
    "        else:\n",
    "            m[num] = 1\n",
    "            \n",
    "    return pairCount\n",
    "# Main\n",
    "n=int(input())\n",
    "l=list(int(i) for i in input().strip().split(' '))\n",
    "k=int(input())\n",
    "print(printPairDiffK(l, k))"
   ]
  },
  {
   "cell_type": "code",
   "execution_count": null,
   "metadata": {},
   "outputs": [],
   "source": [
    "Longest subset zero sum"
   ]
  },
  {
   "cell_type": "code",
   "execution_count": null,
   "metadata": {},
   "outputs": [],
   "source": [
    "def subsetSum(l):\n",
    "    d = {}\n",
    "    \n",
    "    maxlen = 0\n",
    "    currsum = 0\n",
    "    \n",
    "    for i in range(len(l)):\n",
    "        currsum += l[i]\n",
    "        \n",
    "        if l[i]==0 and maxlen==0:\n",
    "            maxlen = i + 1\n",
    "            \n",
    "        if currsum in d:\n",
    "            maxlen = max(maxlen, i-d[currsum])\n",
    "            \n",
    "        elif currsum==0:\n",
    "            maxlen=i+1\n",
    "        \n",
    "        else:\n",
    "            d[currsum] = i\n",
    "            \n",
    "    return maxlen  \n",
    "# Main\n",
    "n=int(input())\n",
    "l=list(int(i) for i in input().strip().split(' '))\n",
    "print(subsetSum(l))"
   ]
  }
 ],
 "metadata": {
  "kernelspec": {
   "display_name": "Python 3",
   "language": "python",
   "name": "python3"
  },
  "language_info": {
   "codemirror_mode": {
    "name": "ipython",
    "version": 3
   },
   "file_extension": ".py",
   "mimetype": "text/x-python",
   "name": "python",
   "nbconvert_exporter": "python",
   "pygments_lexer": "ipython3",
   "version": "3.8.5"
  }
 },
 "nbformat": 4,
 "nbformat_minor": 4
}
