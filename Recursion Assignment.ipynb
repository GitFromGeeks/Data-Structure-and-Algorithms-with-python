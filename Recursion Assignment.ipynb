{
 "cells": [
  {
   "cell_type": "code",
   "execution_count": null,
   "metadata": {},
   "outputs": [],
   "source": [
    "Geometric Sum"
   ]
  },
  {
   "cell_type": "code",
   "execution_count": null,
   "metadata": {},
   "outputs": [],
   "source": [
    "## Read input as specified in the question.\n",
    "## Print output as specified in the question.\n",
    "def geosum(n):\n",
    "    if n<0:\n",
    "        return 0\n",
    "    return 1/pow(2,n) + geosum(n-1)\n",
    "n=int(input())\n",
    "geosum(n)\n",
    "print(\"{:.5f}\".format(geosum(n)))"
   ]
  },
  {
   "cell_type": "code",
   "execution_count": null,
   "metadata": {},
   "outputs": [],
   "source": [
    "Check Palindrome (recursive)"
   ]
  },
  {
   "cell_type": "code",
   "execution_count": null,
   "metadata": {},
   "outputs": [],
   "source": [
    "def pali(s):\n",
    "    if len(s)<1:\n",
    "        print (\"true\")\n",
    "    else:\n",
    "        if s[0]==s[-1]:\n",
    "            return pali(s[1:-1])\n",
    "        else:\n",
    "            print(\"false\")\n",
    "a=input()\n",
    "pali(a)"
   ]
  },
  {
   "cell_type": "code",
   "execution_count": null,
   "metadata": {},
   "outputs": [],
   "source": [
    "Sum of digits (recursive)"
   ]
  },
  {
   "cell_type": "code",
   "execution_count": null,
   "metadata": {},
   "outputs": [],
   "source": [
    "## Read input as specified in the question.\n",
    "## Print output as specified in the question.\n",
    "n=int(input())\n",
    "def sumofdigit(n):\n",
    "    if n==0:\n",
    "        return 0\n",
    "    if n==1:\n",
    "        return n\n",
    "    return n%10 +sumofdigit(n//10)\n",
    "print(sumofdigit(n))"
   ]
  },
  {
   "cell_type": "code",
   "execution_count": null,
   "metadata": {},
   "outputs": [],
   "source": [
    "Multiplication (Recursive)"
   ]
  },
  {
   "cell_type": "code",
   "execution_count": null,
   "metadata": {},
   "outputs": [],
   "source": [
    "n=int(input())\n",
    "m=int(input())\n",
    "def multiplication(n,m):\n",
    "    if n==0 or m==0:\n",
    "        return 0\n",
    "    elif(n<m):\n",
    "        return multiplication(m,n)\n",
    "    else:\n",
    "        return n+multiplication(n,m-1)\n",
    "print(multiplication(n,m))"
   ]
  },
  {
   "cell_type": "code",
   "execution_count": null,
   "metadata": {},
   "outputs": [],
   "source": [
    "Count Zeros"
   ]
  },
  {
   "cell_type": "code",
   "execution_count": null,
   "metadata": {},
   "outputs": [],
   "source": [
    "def countzero(n):\n",
    "    if n==0:\n",
    "        return 1\n",
    "    if n<10:\n",
    "        return 0\n",
    "    c=0\n",
    "    if (n%10==0):\n",
    "        return 1+countzero(n//10)\n",
    "    else:\n",
    "        return countzero(n//10)\n",
    "n=int(input())\n",
    "print(countzero(n))"
   ]
  },
  {
   "cell_type": "code",
   "execution_count": null,
   "metadata": {},
   "outputs": [],
   "source": [
    "String to Integer"
   ]
  },
  {
   "cell_type": "code",
   "execution_count": null,
   "metadata": {},
   "outputs": [],
   "source": [
    "## Read input as specified in the question.\n",
    "## Print output as specified in the question.\n",
    "def countzero(n):\n",
    "    if n==0:\n",
    "        return 1\n",
    "    if n<10:\n",
    "        return 0\n",
    "    c=0\n",
    "    if (n%10==0):\n",
    "        return 1+countzero(n//10)\n",
    "    else:\n",
    "        return countzero(n//10)\n",
    "n=int(input())\n",
    "print(countzero(n))"
   ]
  },
  {
   "cell_type": "code",
   "execution_count": null,
   "metadata": {},
   "outputs": [],
   "source": [
    "Pair star"
   ]
  },
  {
   "cell_type": "code",
   "execution_count": null,
   "metadata": {},
   "outputs": [],
   "source": [
    "## Read input as specified in the question.\n",
    "## Print output as specified in the question.\n",
    "s=input()\n",
    "def pairstar(s):\n",
    "    if len(s)==0:\n",
    "        return\n",
    "    if len(s)==1:\n",
    "        return s\n",
    "    if s[0]==s[1]:\n",
    "        return s[0]+'*'+pairstar(s[1:])\n",
    "    else:\n",
    "        return s[0]+pairstar(s[1:])\n",
    "pairstar(s)\n",
    "print(pairstar(s))"
   ]
  },
  {
   "cell_type": "code",
   "execution_count": null,
   "metadata": {},
   "outputs": [],
   "source": [
    "Check AB"
   ]
  },
  {
   "cell_type": "code",
   "execution_count": null,
   "metadata": {},
   "outputs": [],
   "source": [
    "def checkAB(str):\n",
    "    if len(str)==0:\n",
    "        return True\n",
    "    if str[0] == 'a':\n",
    "        if len(str[1:]) > 1 and str[1:3]=='bb':\n",
    "            return checkAB(str[3:])\n",
    "        else:\n",
    "            return checkAB(str[1:])\n",
    "    else:\n",
    "        return False\n",
    "str = input()\n",
    "if(checkAB(str)):\n",
    "    print(\"true\")\n",
    "else:\n",
    "    print(\"false\")"
   ]
  },
  {
   "cell_type": "code",
   "execution_count": null,
   "metadata": {},
   "outputs": [],
   "source": [
    "Staircase"
   ]
  },
  {
   "cell_type": "code",
   "execution_count": null,
   "metadata": {},
   "outputs": [],
   "source": [
    "def staircase(n):\n",
    "    if n<3:\n",
    "        return n\n",
    "    if n==3:\n",
    "        return 4 \n",
    "    return staircase(n-1) + staircase(n-2) + staircase(n-3)\n",
    "n=int(input())\n",
    "count=staircase(n)\n",
    "\n",
    "print(count)"
   ]
  }
 ],
 "metadata": {
  "kernelspec": {
   "display_name": "Python 3",
   "language": "python",
   "name": "python3"
  },
  "language_info": {
   "codemirror_mode": {
    "name": "ipython",
    "version": 3
   },
   "file_extension": ".py",
   "mimetype": "text/x-python",
   "name": "python",
   "nbconvert_exporter": "python",
   "pygments_lexer": "ipython3",
   "version": "3.8.5"
  }
 },
 "nbformat": 4,
 "nbformat_minor": 4
}
