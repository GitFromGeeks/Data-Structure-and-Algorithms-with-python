{
 "cells": [
  {
   "cell_type": "code",
   "execution_count": null,
   "metadata": {},
   "outputs": [],
   "source": [
    "Min Steps To 1"
   ]
  },
  {
   "cell_type": "code",
   "execution_count": null,
   "metadata": {},
   "outputs": [],
   "source": [
    "from sys import maxsize,stdin\n",
    "import sys\n",
    "sys.setrecursionlimit(100000000)\n",
    "def countMinStepsToOne(n,dp) :\n",
    "    if n==1:\n",
    "        return 0\n",
    "    ans1=sys.maxsize\n",
    "    if n%3==0:\n",
    "        if dp[n//3]==-1:\n",
    "            ans1=countMinStepsToOne(n//3,dp)\n",
    "            dp[n//3]=ans1\n",
    "        else:\n",
    "            ans1=dp[n//3]\n",
    "    ans2=sys.maxsize\n",
    "    if n%2==0:\n",
    "        if dp[n//2]==-1:\n",
    "            ans2=countMinStepsToOne(n//2,dp)\n",
    "            dp[n//2]=ans2\n",
    "        else:\n",
    "            ans2=dp[n//2]\n",
    "    if dp[n-1]==-1:\n",
    "        ans3=countMinStepsToOne(n-1,dp)\n",
    "        dp[n-1]=ans3\n",
    "    else:\n",
    "        ans3=dp[n-1]\n",
    "    ans=1+min(ans1,ans2,ans3)\n",
    "    return ans\n",
    "    \n",
    "#main\n",
    "n = int(stdin.readline().rstrip())\n",
    "dp=[-1 for i in range(n+1)]\n",
    "print(countMinStepsToOne(n,dp))"
   ]
  },
  {
   "cell_type": "code",
   "execution_count": null,
   "metadata": {},
   "outputs": [],
   "source": [
    "Minimum Number Of Squares"
   ]
  },
  {
   "cell_type": "code",
   "execution_count": null,
   "metadata": {},
   "outputs": [],
   "source": [
    "import sys,math\n",
    "def minSquareI(n):\n",
    "    dp=[-1 for i in range(n+1)]\n",
    "    dp[0]=0\n",
    "    \n",
    "    for i in range(1,n+1):\n",
    "        ans=sys.maxsize\n",
    "        root=int(math.sqrt(i))\n",
    "        for j in range(1,root+1):\n",
    "            currAns=1+dp[i-(j**2)]\n",
    "            ans=min(ans,currAns)\n",
    "        dp[i]=ans\n",
    "    return dp[n]\n",
    "    \n",
    "    \n",
    "n=int(input())\n",
    "ans=minSquareI(n)\n",
    "print(ans)"
   ]
  },
  {
   "cell_type": "code",
   "execution_count": null,
   "metadata": {},
   "outputs": [],
   "source": [
    "Longest Increasing Subsequence"
   ]
  },
  {
   "cell_type": "code",
   "execution_count": null,
   "metadata": {},
   "outputs": [],
   "source": [
    "def listI(li,n):\n",
    "    dp=[[0 for j in range(2)] for i in range(n+1)]\n",
    "    for i in range(n-1,-1,-1):\n",
    "        inc_max=1\n",
    "        for j in range(i+1,n):\n",
    "            if li[j]>li[i]:\n",
    "                inc_max=max(inc_max,1+dp[j][0])\n",
    "        dp[i][0]=inc_max\n",
    "        ex_max=dp[i+1][1]\n",
    "        overallMax=max(inc_max,ex_max)\n",
    "        dp[i][1]=overallMax\n",
    "    return dp[0][1]\n",
    "n=int(input())\n",
    "li=[int(ele) for ele in input().split()]\n",
    "ans=listI(li,n)\n",
    "print(ans)"
   ]
  }
 ],
 "metadata": {
  "kernelspec": {
   "display_name": "Python 3",
   "language": "python",
   "name": "python3"
  },
  "language_info": {
   "codemirror_mode": {
    "name": "ipython",
    "version": 3
   },
   "file_extension": ".py",
   "mimetype": "text/x-python",
   "name": "python",
   "nbconvert_exporter": "python",
   "pygments_lexer": "ipython3",
   "version": "3.8.5"
  }
 },
 "nbformat": 4,
 "nbformat_minor": 4
}
