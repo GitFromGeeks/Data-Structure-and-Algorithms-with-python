{
 "cells": [
  {
   "cell_type": "code",
   "execution_count": null,
   "metadata": {},
   "outputs": [],
   "source": [
    "Min Cost Path Problem"
   ]
  },
  {
   "cell_type": "code",
   "execution_count": null,
   "metadata": {},
   "outputs": [],
   "source": [
    "\n",
    "from sys import stdin\n",
    "MAX_VALUE = 2147483647\n",
    "\n",
    "def minCostPath(cost, n, m) :\n",
    "    dp=[[MAX_VALUE for j in range(m+1)] for i in range(n+1)]\n",
    "    for i in range(n-1,-1,-1):\n",
    "        for j in range(m-1,-1,-1):\n",
    "            if i==n-1 and j==m-1:\n",
    "                dp[i][j]=cost[i][j]\n",
    "            else:\n",
    "                ans1=dp[i+1][j]\n",
    "                ans2=dp[i][j+1]\n",
    "                ans3=dp[i+1][j+1]\n",
    "                dp[i][j]=cost[i][j]+min(ans1,ans2,ans3)\n",
    "    return dp[0][0]\n",
    "    \n",
    "    \n",
    "def take2DInput() :\n",
    "    li = stdin.readline().rstrip().split(\" \")\n",
    "    mRows = int(li[0])\n",
    "    nCols = int(li[1])\n",
    "    \n",
    "    if mRows == 0 :\n",
    "        return list(), 0, 0\n",
    "    \n",
    "    mat = [list(map(int, input().strip().split(\" \"))) for row in range(mRows)]\n",
    "    return mat, mRows, nCols\n",
    "\n",
    "mat, mRows, nCols = take2DInput()\n",
    "print(minCostPath(mat, mRows, nCols))\n"
   ]
  },
  {
   "cell_type": "code",
   "execution_count": null,
   "metadata": {},
   "outputs": [],
   "source": [
    "LCS - Problem"
   ]
  },
  {
   "cell_type": "code",
   "execution_count": null,
   "metadata": {},
   "outputs": [],
   "source": [
    "\n",
    "from sys import stdin\n",
    "\n",
    "def lcs(str1,str2):\n",
    "    n=len(str1)\n",
    "    m=len(str2)\n",
    "    dp=[[0 for j in range(m+1)] for i in range(n+1)]\n",
    "    \n",
    "    for i in range(n-1,-1,-1):\n",
    "        for j in range(m-1,-1,-1):\n",
    "            if str1[i]==str2[j]:\n",
    "                dp[i][j]=1+dp[i+1][j+1]\n",
    "            else:\n",
    "                dp[i][j]=max(dp[i+1][j],dp[i][j+1])\n",
    "    return dp[0][0]\n",
    "    \n",
    "    \n",
    "    \n",
    "#main\n",
    "s = str(stdin.readline().rstrip())\n",
    "t = str(stdin.readline().rstrip())\n",
    "\n",
    "print(lcs(s, t))"
   ]
  },
  {
   "cell_type": "code",
   "execution_count": null,
   "metadata": {},
   "outputs": [],
   "source": [
    "0 1 Knapsack - Problem"
   ]
  },
  {
   "cell_type": "code",
   "execution_count": null,
   "metadata": {},
   "outputs": [],
   "source": [
    "def knapsackBF(w, val, wt):\n",
    "    n = len(val)\n",
    "    dp =  [ [0 for j in range(w+1)] for i in range(n+1) ]\n",
    "    for i in range(1,n+1):\n",
    "        for j in range(1,w+1):\n",
    "            if j<wt[i-1]:\n",
    "                ans = dp[i-1][j]\n",
    "            else:\n",
    "                ans1 = val[i-1] + dp[i-1][j-wt[i-1]]\n",
    "                ans2 = dp[i-1][j]\n",
    "                ans = max(ans1,ans2)\n",
    "            dp[i][j] = ans\n",
    "    return dp[n][w]\n",
    "                    \n",
    "\n",
    "from sys import setrecursionlimit\n",
    "setrecursionlimit(11000)\n",
    "n=int(input())\n",
    "wt=list(int(i) for i in input().strip().split(' '))\n",
    "val=list(int(i) for i in input().strip().split(' '))\n",
    "w=int(input())\n",
    "ans = knapsackBF(w, val, wt)\n",
    "print(ans)"
   ]
  },
  {
   "cell_type": "code",
   "execution_count": null,
   "metadata": {},
   "outputs": [],
   "source": [
    "Matrix Chain Multiplication"
   ]
  },
  {
   "cell_type": "code",
   "execution_count": null,
   "metadata": {},
   "outputs": [],
   "source": [
    "import sys\n",
    "from sys import stdin\n",
    "def mcm(p,i,j,dp):\n",
    "    if i==j:\n",
    "        return 0\n",
    "    minval=sys.maxsize\n",
    "    for k in range(i,j):\n",
    "        if dp[i][k]==-1:\n",
    "            ans1=mcm(p,i,k,dp)\n",
    "            dp[i][k]=ans1\n",
    "        else:\n",
    "            ans1=dp[i][k]\n",
    "        if dp[k+1][j]==-1:\n",
    "            ans2=mcm(p,k+1,j,dp)\n",
    "            dp[k+1][j]=ans2\n",
    "        else:\n",
    "            ans2=dp[k+1][j]\n",
    "        mcost=p[i-1]*p[k]*p[j]\n",
    "        currval=ans1+ans2+mcost\n",
    "        minval=min(minval,currval)\n",
    "    return minval\n",
    "\n",
    "n=int(stdin.readline().strip())\n",
    "p=[int(i) for i in stdin.readline().strip().split()]\n",
    "dp=[[-1 for j in range(n+1)] for i in range(n+1)]\n",
    "print(mcm(p,1,n,dp))"
   ]
  }
 ],
 "metadata": {
  "kernelspec": {
   "display_name": "Python 3",
   "language": "python",
   "name": "python3"
  },
  "language_info": {
   "codemirror_mode": {
    "name": "ipython",
    "version": 3
   },
   "file_extension": ".py",
   "mimetype": "text/x-python",
   "name": "python",
   "nbconvert_exporter": "python",
   "pygments_lexer": "ipython3",
   "version": "3.8.5"
  }
 },
 "nbformat": 4,
 "nbformat_minor": 4
}
